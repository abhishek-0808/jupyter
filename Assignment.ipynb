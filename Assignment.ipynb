{
  "metadata": {
    "kernelspec": {
      "name": "python",
      "display_name": "Python (Pyodide)",
      "language": "python"
    },
    "language_info": {
      "codemirror_mode": {
        "name": "python",
        "version": 3
      },
      "file_extension": ".py",
      "mimetype": "text/x-python",
      "name": "python",
      "nbconvert_exporter": "python",
      "pygments_lexer": "ipython3",
      "version": "3.8"
    }
  },
  "nbformat_minor": 4,
  "nbformat": 4,
  "cells": [
    {
      "cell_type": "markdown",
      "source": "## Calculating the percentage of marks",
      "metadata": {}
    },
    {
      "cell_type": "markdown",
      "source": "Below is the code for calculating the marks of Sam",
      "metadata": {}
    },
    {
      "cell_type": "markdown",
      "source": "The data science languages are as follows:\n- Python\n- R programming\n- SQL\n- Scale\n- Java\n- C++\n- Julia\n- Java Script\n- PHP\n- Go\n- Ruby\n- Visual Basic",
      "metadata": {}
    },
    {
      "cell_type": "markdown",
      "source": "The important data science libraries are as follows:\n- pandas\n- NumPy\n- matplotlib\n- scikit-learn\n- TensorFlow\n- pytorch\n- vegas\n- BigDL\n- ggplot2",
      "metadata": {}
    },
    {
      "cell_type": "markdown",
      "source": "Table of data science tools:\n\n\r| Category            | Tool                                       | Description                                                                                          |\r\n|---------------------|--------------------------------------------|------------------------------------------------------------------------------------------------------|\r\n| Programming Languages | Python                                     | General-purpose programming language widely used in data science for its simplicity and versatility. |\r\n|                      | R                                          | Statistical programming language known for its extensive libraries for data analysis and visualization. |\r\n| Data Manipulation   | pandas                                     | Python library for data manipulation and analysis, providing data structures and functions.          |\r\n|                      | NumPy                                      | Library for numerical computing in Python, providing support for large, multi-dimensional arrays and matrices. |\r\n| Data Visualization  | Matplotlib                                 | Python plotting library for creating static, interactive, and animated visualizations.                |\r\n|                      | Seaborn                                    | Statistical data visualization library built on top of Matplotlib, providing a higher-level interface. |\r\n|                      | Plotly                                     | Open-source graphing library for creating interactive, publication-quality graphs and dashboards.    |\r\n| Machine Learning    | scikit-learn                               | Simple and efficient tools for data mining and data analysis, built on top of NumPy, SciPy, and matplotlib. |\r\n|                      | TensorFlow                                 | Open-source machine learning framework developed by Google, widely used for deep learning tasks.     |\r\n|                      | PyTorch                                    | Open-source machine learning library developed by Facebook, known for its dynamic computational graphs and ease of use. |\r\n|                      | Keras                                      | High-level neural networks API, running on top of TensorFlow or Theano, designed for fast experimentation. |\r\n| Data Mining         | Weka                                       | Collection of machine learning algorithms for data mining tasks, implemented in Java.                  |\r\n|                      | RapidMiner                                 | Integrated environment for machine learning, data mining, text mining, predictive analytics, and business analytics. |\r\n|                      | Orange                                     | Open-source data visualization and analysis tool, featuring interactive data exploration workflows.   |\r\n| Big Data Processing | Apache Spark                               | Unified analytics engine for large-scale data processing, known for its speed and ease of use.         |\r\n|                      | Hadoop                                     | Framework for distributed storage and processing of large datasets using a cluster of commodity hardware. |\r\n|                      | Apache Flink                               | Distributed stream processing framework for high-throughput, fault-tolerant, and scalable data streaming applications. |\r\n\n",
      "metadata": {}
    },
    {
      "cell_type": "markdown",
      "source": "## Arithmetic Expression Example\r\n\r\nIn mathematics and computer science, arithmetic expressions are combinations of values (known as operands) and operators that can be evaluated to produce a result. These expressions can include addition, subtraction, multiplication, division, and more complex operations.\r\n\r\n### Example:\r\n\r\nConsider the following arithmetic expre\n\n(5 + 3) * 2 - 7\n\n\r\nIn this expression:\r\n- The numbers `5`, `3`, `2`, and `7` are operands.\r\n- The symbols `+`, `*`, and `-` are operators.\r\n- The expression is evaluated following the order of operations (PEMDAS/BODMAS):\r\n  1. Parentheses/Brackets\r\n  2. Exponents/Orders\r\n  3. Multiplication and Division (from left to right)\r\n  4. Addition and Subtraction (from left to right)\r\n\r\nLet's evaluate the expression step by step:\r\n\r\n1. `(5 + 3)` evaluates to `8`.\r\n2. `8 * 2` evaluates to `16`.\r\n3. `16 - 7` evaluates to `9`.\r\n\r\nTherefore, the result of the expression `(5 + 3) * 2 - 7` is `9`.\r\nssion:\r\n\r\n",
      "metadata": {}
    },
    {
      "cell_type": "code",
      "source": "# Define numbers\nnum1 = 5\nnum2 = 3\n\n# Multiply and add numbers\nresult_multiply = num1 * num2\nresult_add = num1 + num2\n\n# Print results\nprint(\"Multiplication result:\", result_multiply)\nprint(\"Addition result:\", result_add)\n",
      "metadata": {
        "trusted": true
      },
      "outputs": [
        {
          "name": "stdout",
          "text": "Multiplication result: 15\nAddition result: 8\n",
          "output_type": "stream"
        }
      ],
      "execution_count": 1
    },
    {
      "cell_type": "code",
      "source": "# Define the number of minutes\nminutes = 120\n\n# Convert minutes to hours\nhours = minutes / 60\n\n# Print the result\nprint(minutes, \"minutes is equal to\", hours, \"hours.\")\n",
      "metadata": {
        "trusted": true
      },
      "outputs": [
        {
          "name": "stdout",
          "text": "120 minutes is equal to 2.0 hours.\n",
          "output_type": "stream"
        }
      ],
      "execution_count": 2
    },
    {
      "cell_type": "markdown",
      "source": "## Objectives\r\n\r\nIn this notebook, our objectives are:\r\n\r\n1. **Introduction to Arithmetic Expressions**: Understand the concept of arithmetic expressions and how they are evaluated.\r\n\r\n2. **Performing Arithmetic Operations**: Learn how to perform basic arithmetic operations such as addition, subtraction, multiplication, and division in Python.\r\n\r\n3. **Using Variables**: Explore the use of variables to store and manipulate numerical values in Python.\r\n\r\n4. **Practice Problems**: Solve practice problems involving arithmetic expressions and variable manipulation to reinforce understanding.\r\n\r\n5. **Real-World Applications**: Apply arithmetic operations and variable usage in practical scenarios, such as financial calculations, data analysis, or scientific computations.\r\n\r\n6. **Understanding Operator Precedence**: Gain an understanding of operator precedence and how it affects the evaluation of arithmetic expressions in Python.\r\n\r\n7. **Troubleshooting and Debugging**: Learn techniques for troubleshooting and debugging arithmetic expressions and variable-related issues in Python code.\r\n\r\nLet's dive into these objectives and enhance our skills in Python arithmetic operations and variable manipulation!\r\n",
      "metadata": {}
    },
    {
      "cell_type": "markdown",
      "source": "## Author\r\nThis notebook was createdby Abhishek Basak..\r\n",
      "metadata": {}
    },
    {
      "cell_type": "code",
      "source": "",
      "metadata": {
        "trusted": true
      },
      "outputs": [],
      "execution_count": null
    }
  ]
}